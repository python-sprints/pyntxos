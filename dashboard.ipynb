{
 "cells": [
  {
   "cell_type": "code",
   "execution_count": null,
   "metadata": {},
   "outputs": [],
   "source": [
    "import utils.data\n",
    "import utils.opt\n",
    "import utils.viz\n",
    "import ipywidgets as widgets"
   ]
  },
  {
   "cell_type": "markdown",
   "metadata": {},
   "source": [
    "## Pintxo route finder for EuroSciPy 2019"
   ]
  },
  {
   "cell_type": "code",
   "execution_count": null,
   "metadata": {},
   "outputs": [],
   "source": [
    "data = utils.data.load()\n",
    "df = utils.opt.get_df(data)"
   ]
  },
  {
   "cell_type": "code",
   "execution_count": null,
   "metadata": {},
   "outputs": [],
   "source": [
    "defaults = dict(\n",
    "    start='Urkia Taberna',\n",
    "    end='El Colmado Ibérico',\n",
    "    number_of_pintxos=10,\n",
    "    distance_measure='Manhattan',\n",
    ")"
   ]
  },
  {
   "cell_type": "code",
   "execution_count": null,
   "metadata": {},
   "outputs": [],
   "source": [
    "pintxos_names = df['name'].sort_values().tolist()\n",
    "\n",
    "pintxos_start = widgets.Dropdown(options=pintxos_names, value=defaults['start'])\n",
    "pintxos_end = widgets.Dropdown(options=pintxos_names, value=defaults['end'])\n",
    "number_of_pintxos = widgets.IntSlider(\n",
    "    min=2, \n",
    "    max=len(df), \n",
    "    continuous_update=False, \n",
    "    value=defaults['number_of_pintxos'],\n",
    ")\n",
    "distance_measure = widgets.Dropdown(\n",
    "    options=['Manhattan', 'Euclidean', 'Infinity', 1.1, 1.25, 1.5, 1.75], \n",
    "    value=defaults['distance_measure'],\n",
    ")"
   ]
  },
  {
   "cell_type": "code",
   "execution_count": null,
   "metadata": {},
   "outputs": [],
   "source": [
    "@widgets.interact(Start=pintxos_start, End=pintxos_end, Number=number_of_pintxos, Measure=distance_measure)\n",
    "def get_map(Start, End, Number, Measure):\n",
    "    \n",
    "    if isinstance(Start, str):\n",
    "        start = df.index[df['name'] == Start][0]\n",
    "\n",
    "    if isinstance(End, str):\n",
    "        end = df.index[df['name'] == End][0]\n",
    "\n",
    "    route = utils.opt.constraint_programming(\n",
    "        df=df[['longitude', 'latitude']],\n",
    "        start=start, \n",
    "        end=end,\n",
    "        n_stops=Number,\n",
    "        distance_measure=Measure,\n",
    "    )\n",
    "    \n",
    "    display(utils.viz.get_map(data=data, route=route))\n"
   ]
  }
 ],
 "metadata": {
  "kernelspec": {
   "display_name": "Python 3",
   "language": "python",
   "name": "python3"
  },
  "language_info": {
   "codemirror_mode": {
    "name": "ipython",
    "version": 3
   },
   "file_extension": ".py",
   "mimetype": "text/x-python",
   "name": "python",
   "nbconvert_exporter": "python",
   "pygments_lexer": "ipython3",
   "version": "3.8.3"
  }
 },
 "nbformat": 4,
 "nbformat_minor": 4
}
