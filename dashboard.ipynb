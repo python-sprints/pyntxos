{
 "cells": [
  {
   "cell_type": "code",
   "execution_count": 1,
   "metadata": {},
   "outputs": [],
   "source": [
    "import utils.data\n",
    "import utils.opt\n",
    "import utils.viz\n",
    "import ipywidgets as widgets\n",
    "import datetime"
   ]
  },
  {
   "cell_type": "markdown",
   "metadata": {},
   "source": [
    "## Pintxo route finder for EuroSciPy 2019"
   ]
  },
  {
   "cell_type": "code",
   "execution_count": 2,
   "metadata": {},
   "outputs": [],
   "source": [
    "data = utils.data.load()\n",
    "df = utils.opt.get_df(data)"
   ]
  },
  {
   "cell_type": "code",
   "execution_count": 3,
   "metadata": {},
   "outputs": [],
   "source": [
    "if datetime.datetime.today().date() == datetime.datetime(2019, 9, 2).date():\n",
    "    defaults = dict(\n",
    "        start='Serantes',\n",
    "        end='Argoitia',\n",
    "        number_of_pintxos=10,\n",
    "        distance_measure='Euclidean',\n",
    "    )\n",
    "else:\n",
    "    defaults = dict(\n",
    "        start='Urkia Taberna',\n",
    "        end='El Colmado Ibérico',\n",
    "        number_of_pintxos=10,\n",
    "        distance_measure='Manhattan',\n",
    "    )"
   ]
  },
  {
   "cell_type": "code",
   "execution_count": 4,
   "metadata": {},
   "outputs": [],
   "source": [
    "pintxos_names = sorted([item['name'] for item in data])\n",
    "\n",
    "pintxos_start = widgets.Dropdown(options=pintxos_names, value=defaults['start'])\n",
    "pintxos_end = widgets.Dropdown(options=pintxos_names, value=defaults['end'])\n",
    "number_of_pintxos = widgets.IntSlider(\n",
    "    min=2, \n",
    "    max=len(data), \n",
    "    continuous_update=False, \n",
    "    value=defaults['number_of_pintxos'],\n",
    ")\n",
    "distance_measure = widgets.Dropdown(\n",
    "    options=['Manhattan', 'Euclidean', 'Infinity', 1.1, 1.25, 1.5, 1.75], \n",
    "    value=defaults['distance_measure'],\n",
    ")"
   ]
  },
  {
   "cell_type": "code",
   "execution_count": 5,
   "metadata": {},
   "outputs": [
    {
     "data": {
      "application/vnd.jupyter.widget-view+json": {
       "model_id": "09bf0497853a41e2b18f59f02c2357ba",
       "version_major": 2,
       "version_minor": 0
      },
      "text/plain": [
       "interactive(children=(Dropdown(description='Start', index=59, options=('Abandoybarra', 'Alameda', 'Antomar', '…"
      ]
     },
     "metadata": {},
     "output_type": "display_data"
    }
   ],
   "source": [
    "@widgets.interact(Start=pintxos_start, End=pintxos_end, Number=number_of_pintxos, Measure=distance_measure)\n",
    "def get_map(Start, End, Number, Measure):\n",
    "    \n",
    "    if isinstance(Start, str):\n",
    "        start = df.index[df['name'] == Start][0]\n",
    "\n",
    "    if isinstance(End, str):\n",
    "        end = df.index[df['name'] == End][0]\n",
    "\n",
    "    route = utils.opt.constraint_programming(\n",
    "        df=df[['longitude', 'latitude']],\n",
    "        start=start, \n",
    "        end=end,\n",
    "        n_stops=Number,\n",
    "        distance_measure=Measure,\n",
    "    )\n",
    "    \n",
    "    display(utils.viz.get_map(data=data, route=route))\n"
   ]
  },
  {
   "cell_type": "code",
   "execution_count": null,
   "metadata": {},
   "outputs": [],
   "source": []
  }
 ],
 "metadata": {
  "kernelspec": {
   "display_name": "Python 3",
   "language": "python",
   "name": "python3"
  },
  "language_info": {
   "codemirror_mode": {
    "name": "ipython",
    "version": 3
   },
   "file_extension": ".py",
   "mimetype": "text/x-python",
   "name": "python",
   "nbconvert_exporter": "python",
   "pygments_lexer": "ipython3",
   "version": "3.7.3"
  }
 },
 "nbformat": 4,
 "nbformat_minor": 4
}
